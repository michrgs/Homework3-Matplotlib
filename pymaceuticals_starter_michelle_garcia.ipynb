{
 "cells": [
  {
   "cell_type": "markdown",
   "metadata": {},
   "source": [
    "## Homework 5 - Mathplotlib - Michelle Rocío García Sánchez (a00226577)\n",
    "## BootCampSpot \n",
    "\n"
   ]
  },
  {
   "cell_type": "code",
   "execution_count": 45,
   "metadata": {},
   "outputs": [],
   "source": [
    "#Look across all previously generated figures and tables and write at least three observations or inferences that can be made from the data. Include these observations at the top of notebook.\n",
    "\n",
    "#Inference 1: By plotting the regression line for the capomulin regimen, I found there is a a positive correlation that indicates that tumor size increases when a mouse increases in weight, according to the study results.\n",
    "#Inference 2: It's nice that the researchers tried to maintain a fair distribution of male and female mice, there are 50.7% males and 49.3% females participating in the study, according to the pie plot using pyplot.\n",
    "#Inference 3: Stelasyn has the highest tumor volume in comparison to the other 3 regimen's if we take into consideration it's average and it's third quartil."
   ]
  },
  {
   "cell_type": "code",
   "execution_count": 2,
   "metadata": {},
   "outputs": [
    {
     "name": "stdout",
     "output_type": "stream",
     "text": [
      "    Mouse_ID Drug_Regimen     Sex  Age_months  Weight_g\n",
      "0       k403     Ramicane    Male          21        16\n",
      "1       s185    Capomulin  Female           3        17\n",
      "2       x401    Capomulin  Female          16        15\n",
      "3       m601    Capomulin    Male          22        17\n",
      "4       g791     Ramicane    Male          11        16\n",
      "..       ...          ...     ...         ...       ...\n",
      "244     z314     Stelasyn  Female          21        28\n",
      "245     z435     Propriva  Female          12        26\n",
      "246     z581    Infubinol  Female          24        25\n",
      "247     z795     Naftisol  Female          13        29\n",
      "248     z969     Naftisol    Male           9        30\n",
      "\n",
      "[249 rows x 5 columns]\n",
      "     Mouse_ID  Timepoint  Tumor_Volume_mm3  Metastatic_Sites\n",
      "0        b128          0         45.000000                 0\n",
      "1        f932          0         45.000000                 0\n",
      "2        g107          0         45.000000                 0\n",
      "3        a457          0         45.000000                 0\n",
      "4        c819          0         45.000000                 0\n",
      "...       ...        ...               ...               ...\n",
      "1888     r944         45         41.581521                 2\n",
      "1889     u364         45         31.023923                 3\n",
      "1890     p438         45         61.433892                 1\n",
      "1891     x773         45         58.634971                 4\n",
      "1892     b879         45         72.555239                 2\n",
      "\n",
      "[1893 rows x 4 columns]\n"
     ]
    }
   ],
   "source": [
    "# Importing necessary dependencies\n",
    "import matplotlib.pyplot as plt\n",
    "import pandas as pd\n",
    "import scipy.stats as st\n",
    "import numpy as np\n",
    "\n",
    "# Setting path for csv files\n",
    "mouse_metadata_path = \"Mouse_metadata.csv\"\n",
    "study_results_path = \"Study_results.csv\"\n",
    "\n",
    "# Using pandas.read_csv to convert mouse data and study results csv's into dataframes\n",
    "mouse_metadata = pd.read_csv(mouse_metadata_path)\n",
    "study_results = pd.read_csv(study_results_path)\n",
    "\n",
    "#printing mouse and study dataframes \n",
    "print(mouse_metadata)\n",
    "print(study_results)\n",
    "\n"
   ]
  },
  {
   "cell_type": "code",
   "execution_count": 3,
   "metadata": {
    "scrolled": true
   },
   "outputs": [
    {
     "name": "stdout",
     "output_type": "stream",
     "text": [
      "     Mouse_ID Drug_Regimen   Sex  Age_months  Weight_g  Timepoint  \\\n",
      "0        k403     Ramicane  Male          21        16          0   \n",
      "1        k403     Ramicane  Male          21        16          5   \n",
      "2        k403     Ramicane  Male          21        16         10   \n",
      "3        k403     Ramicane  Male          21        16         15   \n",
      "4        k403     Ramicane  Male          21        16         20   \n",
      "...       ...          ...   ...         ...       ...        ...   \n",
      "1888     z969     Naftisol  Male           9        30         25   \n",
      "1889     z969     Naftisol  Male           9        30         30   \n",
      "1890     z969     Naftisol  Male           9        30         35   \n",
      "1891     z969     Naftisol  Male           9        30         40   \n",
      "1892     z969     Naftisol  Male           9        30         45   \n",
      "\n",
      "      Tumor_Volume_mm3  Metastatic_Sites  \n",
      "0            45.000000                 0  \n",
      "1            38.825898                 0  \n",
      "2            35.014271                 1  \n",
      "3            34.223992                 1  \n",
      "4            32.997729                 1  \n",
      "...                ...               ...  \n",
      "1888         63.145652                 2  \n",
      "1889         65.841013                 3  \n",
      "1890         69.176246                 4  \n",
      "1891         70.314904                 4  \n",
      "1892         73.867845                 4  \n",
      "\n",
      "[1893 rows x 8 columns]\n"
     ]
    }
   ],
   "source": [
    "# Using pandas.DataFrame.merge to combine the data into a single dataset, centering on Mouse_ID so we can later find duplicate mouse Id's.\n",
    "results_merged=mouse_metadata.merge(study_results, on=\"Mouse_ID\")\n",
    "print(results_merged)"
   ]
  },
  {
   "cell_type": "code",
   "execution_count": 16,
   "metadata": {},
   "outputs": [
    {
     "name": "stdout",
     "output_type": "stream",
     "text": [
      "249\n"
     ]
    }
   ],
   "source": [
    "#counting the number of unique mice ID in the results_merged dataframe\n",
    "unique_id=results_merged.Mouse_ID.unique()\n",
    "\n",
    "print(len(unique_id))\n"
   ]
  },
  {
   "cell_type": "code",
   "execution_count": 17,
   "metadata": {},
   "outputs": [
    {
     "name": "stdout",
     "output_type": "stream",
     "text": [
      "    Mouse_ID Drug_Regimen     Sex  Age_months  Weight_g  Timepoint  \\\n",
      "909     g989     Propriva  Female          21        26          0   \n",
      "\n",
      "     Tumor_Volume_mm3  Metastatic_Sites  \n",
      "909              45.0                 0  \n",
      "    Mouse_ID Drug_Regimen     Sex  Age_months  Weight_g  Timepoint  \\\n",
      "909     g989     Propriva  Female          21        26          0   \n",
      "911     g989     Propriva  Female          21        26          5   \n",
      "913     g989     Propriva  Female          21        26         10   \n",
      "915     g989     Propriva  Female          21        26         15   \n",
      "917     g989     Propriva  Female          21        26         20   \n",
      "\n",
      "     Tumor_Volume_mm3  Metastatic_Sites  \n",
      "909         45.000000                 0  \n",
      "911         47.570392                 0  \n",
      "913         49.880528                 0  \n",
      "915         53.442020                 0  \n",
      "917         54.657650                 1  \n"
     ]
    }
   ],
   "source": [
    "# Figuring out which mouse Id's have duplicates by focusing on Mouse ID and Timepoint. \n",
    "duplicateRowsTotal = results_merged[results_merged.duplicated()]\n",
    "print(duplicateRowsTotal)\n",
    "# printing all of the duplicate mouse ID's in the dataframe results_merged\n",
    "duplicate_mouse_ID_timepoint=results_merged[results_merged.duplicated([\"Mouse_ID\", \"Timepoint\"])]\n",
    "print(duplicate_mouse_ID_timepoint)"
   ]
  },
  {
   "cell_type": "code",
   "execution_count": 18,
   "metadata": {},
   "outputs": [
    {
     "name": "stdout",
     "output_type": "stream",
     "text": [
      "['g989' 'Propriva' 'Female' 21 26 5 48.78680146 0]\n",
      "['g989' 'Propriva' 'Female' 21 26 0 45.0 0]\n",
      "['g989' 'Propriva' 'Female' 21 26 0 45.0 0]\n",
      "['g867' 'Stelasyn' 'Female' 9 25 15 51.06041924 1]\n",
      "['g989' 'Propriva' 'Female' 21 26 10 51.74515613 0]\n"
     ]
    }
   ],
   "source": [
    "#creating an numpy array of the duplicate mouse_id's.\n",
    "array_results=np.array(results_merged)\n",
    "print(array_results[910])\n",
    "print(array_results[909])\n",
    "print(array_results[908])\n",
    "print(array_results[907])\n",
    "print(array_results[912])"
   ]
  },
  {
   "cell_type": "code",
   "execution_count": 19,
   "metadata": {},
   "outputs": [
    {
     "name": "stdout",
     "output_type": "stream",
     "text": [
      "     Mouse_ID Drug_Regimen   Sex  Age_months  Weight_g  Timepoint  \\\n",
      "0        k403     Ramicane  Male          21        16          0   \n",
      "1        k403     Ramicane  Male          21        16          5   \n",
      "2        k403     Ramicane  Male          21        16         10   \n",
      "3        k403     Ramicane  Male          21        16         15   \n",
      "4        k403     Ramicane  Male          21        16         20   \n",
      "...       ...          ...   ...         ...       ...        ...   \n",
      "1888     z969     Naftisol  Male           9        30         25   \n",
      "1889     z969     Naftisol  Male           9        30         30   \n",
      "1890     z969     Naftisol  Male           9        30         35   \n",
      "1891     z969     Naftisol  Male           9        30         40   \n",
      "1892     z969     Naftisol  Male           9        30         45   \n",
      "\n",
      "      Tumor_Volume_mm3  Metastatic_Sites  \n",
      "0            45.000000                 0  \n",
      "1            38.825898                 0  \n",
      "2            35.014271                 1  \n",
      "3            34.223992                 1  \n",
      "4            32.997729                 1  \n",
      "...                ...               ...  \n",
      "1888         63.145652                 2  \n",
      "1889         65.841013                 3  \n",
      "1890         69.176246                 4  \n",
      "1891         70.314904                 4  \n",
      "1892         73.867845                 4  \n",
      "\n",
      "[1888 rows x 8 columns]\n"
     ]
    }
   ],
   "source": [
    "# Creating a clean DataFrame by dropping duplicate mouse ID's using \"Mouse_ID\" and \"Timepoint\" as reference.\n",
    "results_merged_unique=results_merged.drop_duplicates(subset=[\"Mouse_ID\", \"Timepoint\"], keep='first', inplace=False)\n",
    "print(results_merged_unique)"
   ]
  },
  {
   "cell_type": "code",
   "execution_count": 22,
   "metadata": {},
   "outputs": [
    {
     "name": "stdout",
     "output_type": "stream",
     "text": [
      "1888\n"
     ]
    }
   ],
   "source": [
    "# Checking the number of mice in the clean DataFrame, originally there were 1893 mouse Id's\n",
    "mice_array=np.array(results_merged_unique)\n",
    "print(len(mice_array))\n"
   ]
  },
  {
   "cell_type": "markdown",
   "metadata": {},
   "source": [
    "## Summary Statistics"
   ]
  },
  {
   "cell_type": "code",
   "execution_count": 23,
   "metadata": {
    "scrolled": true
   },
   "outputs": [
    {
     "name": "stdout",
     "output_type": "stream",
     "text": [
      "50.44927645413136\n",
      "48.951421075\n",
      "79.29127745388115\n",
      "8.904564978362567\n",
      "0.2049329125626728\n"
     ]
    }
   ],
   "source": [
    "# Generate a summary statistics table of mean, median, variance, standard deviation, and SEM of the tumor volume for each regimen\n",
    "\n",
    "# This method is the most straightforward, creating multiple series and putting them all together at the end.\n",
    "\n",
    "mean_tumor=results_merged_unique.mean(axis=0, skipna=None, level=None, numeric_only=None)  \n",
    "#print(type(mean_tumor))\n",
    "print(mean_tumor[\"Tumor_Volume_mm3\"])\n",
    "\n",
    "median_tumor=results_merged_unique.median(axis=0, skipna=None, level=None, numeric_only=None) \n",
    "print(median_tumor[\"Tumor_Volume_mm3\"])\n",
    "\n",
    "variance_tumor=results_merged_unique.var(axis=0, skipna=None, level=None, numeric_only=None) \n",
    "print(variance_tumor[\"Tumor_Volume_mm3\"])\n",
    "\n",
    "std_dev_tumor=results_merged_unique.std(axis=0, skipna=None, level=None, numeric_only=None) \n",
    "print(std_dev_tumor[\"Tumor_Volume_mm3\"])\n",
    "\n",
    "std_error_tumor=results_merged_unique.sem(axis=0, skipna=None, level=None, numeric_only=None) \n",
    "print(std_error_tumor[\"Tumor_Volume_mm3\"])\n"
   ]
  },
  {
   "cell_type": "code",
   "execution_count": 24,
   "metadata": {
    "scrolled": true
   },
   "outputs": [
    {
     "data": {
      "text/html": [
       "<div>\n",
       "<style scoped>\n",
       "    .dataframe tbody tr th:only-of-type {\n",
       "        vertical-align: middle;\n",
       "    }\n",
       "\n",
       "    .dataframe tbody tr th {\n",
       "        vertical-align: top;\n",
       "    }\n",
       "\n",
       "    .dataframe thead th {\n",
       "        text-align: right;\n",
       "    }\n",
       "</style>\n",
       "<table border=\"1\" class=\"dataframe\">\n",
       "  <thead>\n",
       "    <tr style=\"text-align: right;\">\n",
       "      <th></th>\n",
       "      <th>Mean</th>\n",
       "      <th>Median</th>\n",
       "      <th>Variance</th>\n",
       "      <th>StdDev</th>\n",
       "      <th>StdError</th>\n",
       "    </tr>\n",
       "  </thead>\n",
       "  <tbody>\n",
       "    <tr>\n",
       "      <th>Summary_Statistics</th>\n",
       "      <td>50.449276</td>\n",
       "      <td>48.951421</td>\n",
       "      <td>79.291277</td>\n",
       "      <td>8.904565</td>\n",
       "      <td>0.204933</td>\n",
       "    </tr>\n",
       "  </tbody>\n",
       "</table>\n",
       "</div>"
      ],
      "text/plain": [
       "                         Mean     Median   Variance    StdDev  StdError\n",
       "Summary_Statistics  50.449276  48.951421  79.291277  8.904565  0.204933"
      ]
     },
     "execution_count": 24,
     "metadata": {},
     "output_type": "execute_result"
    }
   ],
   "source": [
    "# Generate a summary statistics table of mean, median, variance, standard deviation, and SEM of the tumor volume for each regimen\n",
    "\n",
    "# This method produces everything in a single groupby function.\n",
    "\n",
    "data = {'Mean':[mean_tumor[\"Tumor_Volume_mm3\"]], 'Median':[median_tumor[\"Tumor_Volume_mm3\"]], 'Variance':[variance_tumor[\"Tumor_Volume_mm3\"]], 'StdDev':[std_dev_tumor[\"Tumor_Volume_mm3\"]], 'StdError':[std_error_tumor[\"Tumor_Volume_mm3\"]]} \n",
    "  \n",
    "# Creates pandas DataFrame. \n",
    "Summary_Statistics = pd.DataFrame(data, index =(['Summary_Statistics']))\n",
    "\n",
    "# print the data \n",
    "Summary_Statistics"
   ]
  },
  {
   "cell_type": "markdown",
   "metadata": {},
   "source": [
    "## Bar Plots"
   ]
  },
  {
   "cell_type": "code",
   "execution_count": 26,
   "metadata": {},
   "outputs": [
    {
     "name": "stdout",
     "output_type": "stream",
     "text": [
      "           Mouse_ID  Drug_Regimen  Sex  Age_months  Weight_g  \\\n",
      "Timepoint                                                      \n",
      "0               249           249  249         249       249   \n",
      "5               237           237  237         237       237   \n",
      "10              222           222  222         222       222   \n",
      "15              206           206  206         206       206   \n",
      "20              194           194  194         194       194   \n",
      "25              183           183  183         183       183   \n",
      "30              171           171  171         171       171   \n",
      "35              154           154  154         154       154   \n",
      "40              142           142  142         142       142   \n",
      "45              130           130  130         130       130   \n",
      "\n",
      "           Tumor_Volume_mm3  Metastatic_Sites  \n",
      "Timepoint                                      \n",
      "0                       249               249  \n",
      "5                       237               237  \n",
      "10                      222               222  \n",
      "15                      206               206  \n",
      "20                      194               194  \n",
      "25                      183               183  \n",
      "30                      171               171  \n",
      "35                      154               154  \n",
      "40                      142               142  \n",
      "45                      130               130  \n"
     ]
    },
    {
     "data": {
      "image/png": "[encoded data removed]",
      "text/plain": [
       "<Figure size 1080x720 with 1 Axes>"
      ]
     },
     "metadata": {
      "needs_background": "light"
     },
     "output_type": "display_data"
    }
   ],
   "source": [
    "# Generate a bar plot showing the number of mice per time point for each treatment throughout the course of the study using pandas.\n",
    "\n",
    "#number of mice per time point\n",
    "number_mice=results_merged_unique.groupby('Timepoint').count()\n",
    "print(number_mice)\n",
    "#creation of bar plot\n",
    "ax = number_mice[['Mouse_ID']].plot(kind='bar', title =\"Number of mice per time point for each treatment throughout the course of the study\", figsize=(15, 10), legend=True, fontsize=12)\n",
    "ax.set_xlabel(\"Timepoint\", fontsize=12)\n",
    "ax.set_ylabel(\"number_mice\", fontsize=12)\n",
    "plt.show()\n"
   ]
  },
  {
   "cell_type": "code",
   "execution_count": 27,
   "metadata": {},
   "outputs": [
    {
     "name": "stdout",
     "output_type": "stream",
     "text": [
      "              Mouse_ID  Sex  Age_months  Weight_g  Timepoint  \\\n",
      "Drug_Regimen                                                   \n",
      "Capomulin          230  230         230       230        230   \n",
      "Ceftamin           178  178         178       178        178   \n",
      "Infubinol          178  178         178       178        178   \n",
      "Ketapril           188  188         188       188        188   \n",
      "Naftisol           186  186         186       186        186   \n",
      "Placebo            181  181         181       181        181   \n",
      "Propriva           156  156         156       156        156   \n",
      "Ramicane           228  228         228       228        228   \n",
      "Stelasyn           181  181         181       181        181   \n",
      "Zoniferol          182  182         182       182        182   \n",
      "\n",
      "              Tumor_Volume_mm3  Metastatic_Sites  \n",
      "Drug_Regimen                                      \n",
      "Capomulin                  230               230  \n",
      "Ceftamin                   178               178  \n",
      "Infubinol                  178               178  \n",
      "Ketapril                   188               188  \n",
      "Naftisol                   186               186  \n",
      "Placebo                    181               181  \n",
      "Propriva                   156               156  \n",
      "Ramicane                   228               228  \n",
      "Stelasyn                   181               181  \n",
      "Zoniferol                  182               182  \n",
      "           Capomulin  Ceftamin  Infubinol  Ketapril  Naftisol  Placebo  \\\n",
      "Timepoint                                                                \n",
      "0                 25        25         25        25        25       25   \n",
      "5                 25        21         25        23        23       24   \n",
      "10                25        20         21        22        21       24   \n",
      "15                24        19         21        19        21       20   \n",
      "20                23        18         20        19        20       19   \n",
      "25                22        18         18        19        18       17   \n",
      "30                22        16         17        18        15       15   \n",
      "35                22        14         12        17        15       14   \n",
      "40                21        14         10        15        15       12   \n",
      "45                21        13          9        11        13       11   \n",
      "\n",
      "           Propriva  Ramicane  Stelasyn  Zoniferol  \n",
      "Timepoint                                           \n",
      "0                25        25        24         25  \n",
      "5                24        25        23         24  \n",
      "10               22        24        21         22  \n",
      "15               16        24        21         21  \n",
      "20               16        23        19         17  \n",
      "25               14        23        18         16  \n",
      "30               13        23        17         15  \n",
      "35               10        21        15         14  \n",
      "40                9        20        12         14  \n",
      "45                7        20        11         14  \n"
     ]
    },
    {
     "data": {
      "image/png": "[encoded data removed]",
      "text/plain": [
       "<Figure size 1080x720 with 1 Axes>"
      ]
     },
     "metadata": {
      "needs_background": "light"
     },
     "output_type": "display_data"
    }
   ],
   "source": [
    "# Generate a bar plot showing the number of mice per time point for each treatment throughout the course of the study using pyplot.\n",
    "\n",
    "#creation of bar plot\n",
    "number_treatment=results_merged_unique.groupby('Drug_Regimen').count()\n",
    "print(number_treatment)\n",
    "Drug_Capomulin = results_merged_unique[results_merged_unique['Drug_Regimen'] == \"Capomulin\"]\n",
    "#print(Drug_Capomulin)\n",
    "Capomulin=Drug_Capomulin.groupby('Timepoint').count()\n",
    "#print(Capomulin['Mouse_ID'])\n",
    "\n",
    "Drug_Ceftamin = results_merged_unique[results_merged_unique['Drug_Regimen'] == \"Ceftamin\"]\n",
    "#print(Drug_Ceftamin)\n",
    "Ceftamin=Drug_Ceftamin.groupby('Timepoint').count()\n",
    "#print(Ceftamin['Mouse_ID'])\n",
    "\n",
    "#creation of new DF\n",
    "drug = pd.concat([Capomulin[\"Mouse_ID\"],  Ceftamin[\"Age_months\"]], axis=1, sort=False)\n",
    "\n",
    "drug = drug.rename(columns={'Mouse_ID': 'Capomulin'})\n",
    "drug = drug.rename(columns={'Age_months': 'Ceftamin'})\n",
    "\n",
    "Drug_Infubinol = results_merged_unique[results_merged_unique[\"Drug_Regimen\"]== \"Infubinol\"]\n",
    "Infubinol = Drug_Infubinol.groupby(\"Timepoint\").count()\n",
    "drug = pd.concat([drug, Infubinol[\"Mouse_ID\"]],axis=1,sort=False)\n",
    "drug=drug.rename(columns={'Mouse_ID':'Infubinol'})\n",
    "\n",
    "Drug_Ketapril = results_merged_unique[results_merged_unique[\"Drug_Regimen\"]== \"Ketapril\"]\n",
    "Ketapril = Drug_Ketapril.groupby(\"Timepoint\").count()\n",
    "drug = pd.concat([drug, Ketapril[\"Mouse_ID\"]],axis=1,sort=False)\n",
    "drug=drug.rename(columns={'Mouse_ID':'Ketapril'})\n",
    "\n",
    "Drug_Naftisol = results_merged_unique[results_merged_unique[\"Drug_Regimen\"]== \"Naftisol\"]\n",
    "Naftisol = Drug_Naftisol.groupby(\"Timepoint\").count()\n",
    "drug = pd.concat([drug, Naftisol[\"Mouse_ID\"]],axis=1,sort=False)\n",
    "drug=drug.rename(columns={'Mouse_ID':'Naftisol'})\n",
    "\n",
    "Drug_Placebo = results_merged_unique[results_merged_unique[\"Drug_Regimen\"]== \"Placebo\"]\n",
    "Placebo = Drug_Placebo.groupby(\"Timepoint\").count()\n",
    "drug = pd.concat([drug, Placebo[\"Mouse_ID\"]],axis=1,sort=False)\n",
    "drug=drug.rename(columns={'Mouse_ID':'Placebo'})\n",
    "\n",
    "Drug_Propriva = results_merged_unique[results_merged_unique[\"Drug_Regimen\"]== \"Propriva\"]\n",
    "Propriva = Drug_Propriva.groupby(\"Timepoint\").count()\n",
    "drug = pd.concat([drug, Propriva[\"Mouse_ID\"]],axis=1,sort=False)\n",
    "drug=drug.rename(columns={'Mouse_ID':'Propriva'})\n",
    "\n",
    "Drug_Ramicane = results_merged_unique[results_merged_unique[\"Drug_Regimen\"]== \"Ramicane\"]\n",
    "Ramicane = Drug_Ramicane.groupby(\"Timepoint\").count()\n",
    "drug = pd.concat([drug, Ramicane[\"Mouse_ID\"]],axis=1,sort=False)\n",
    "drug=drug.rename(columns={'Mouse_ID':'Ramicane'})\n",
    "\n",
    "Drug_Stelasyn = results_merged_unique[results_merged_unique[\"Drug_Regimen\"]== \"Stelasyn\"]\n",
    "Stelasyn = Drug_Stelasyn.groupby(\"Timepoint\").count()\n",
    "drug = pd.concat([drug, Stelasyn[\"Mouse_ID\"]],axis=1,sort=False)\n",
    "drug=drug.rename(columns={'Mouse_ID':'Stelasyn'})\n",
    "\n",
    "Drug_Zoniferol= results_merged_unique[results_merged_unique[\"Drug_Regimen\"]== \"Zoniferol\"]\n",
    "Zoniferol= Drug_Zoniferol.groupby(\"Timepoint\").count()\n",
    "drug= pd.concat([drug, Zoniferol[\"Mouse_ID\"]],axis=1,sort=False)\n",
    "drug=drug.rename(columns={'Mouse_ID':'Zoniferol'})\n",
    "\n",
    "\n",
    "print(drug)\n",
    "#creation of pyplot with counter of mice per drug regimen filtered by timepoint\n",
    "ax = drug[['Capomulin', 'Ceftamin', 'Infubinol', 'Ketapril', 'Naftisol', 'Placebo', 'Propriva', 'Ramicane', 'Stelasyn', 'Zoniferol']].plot(kind='bar', title =\"Number of mice per time point for each treatment throughout the course of the study\", figsize=(15, 10), legend=True, fontsize=12)\n",
    "ax.set_xlabel(\"Timepoint\", fontsize=12)\n",
    "ax.set_ylabel(\"number_mice\", fontsize=12)\n",
    "plt.show()\n"
   ]
  },
  {
   "cell_type": "markdown",
   "metadata": {},
   "source": [
    "## Pie Plots"
   ]
  },
  {
   "cell_type": "code",
   "execution_count": 35,
   "metadata": {},
   "outputs": [
    {
     "name": "stdout",
     "output_type": "stream",
     "text": [
      "     Mouse_ID Drug_Regimen   Sex  Age_months  Weight_g  Timepoint  \\\n",
      "0        k403     Ramicane  Male          21        16          0   \n",
      "1        k403     Ramicane  Male          21        16          5   \n",
      "2        k403     Ramicane  Male          21        16         10   \n",
      "3        k403     Ramicane  Male          21        16         15   \n",
      "4        k403     Ramicane  Male          21        16         20   \n",
      "...       ...          ...   ...         ...       ...        ...   \n",
      "1888     z969     Naftisol  Male           9        30         25   \n",
      "1889     z969     Naftisol  Male           9        30         30   \n",
      "1890     z969     Naftisol  Male           9        30         35   \n",
      "1891     z969     Naftisol  Male           9        30         40   \n",
      "1892     z969     Naftisol  Male           9        30         45   \n",
      "\n",
      "      Tumor_Volume_mm3  Metastatic_Sites  \n",
      "0            45.000000                 0  \n",
      "1            38.825898                 0  \n",
      "2            35.014271                 1  \n",
      "3            34.223992                 1  \n",
      "4            32.997729                 1  \n",
      "...                ...               ...  \n",
      "1888         63.145652                 2  \n",
      "1889         65.841013                 3  \n",
      "1890         69.176246                 4  \n",
      "1891         70.314904                 4  \n",
      "1892         73.867845                 4  \n",
      "\n",
      "[958 rows x 8 columns]\n",
      "958\n",
      "     Mouse_ID Drug_Regimen     Sex  Age_months  Weight_g  Timepoint  \\\n",
      "10       s185    Capomulin  Female           3        17          0   \n",
      "11       s185    Capomulin  Female           3        17          5   \n",
      "12       s185    Capomulin  Female           3        17         10   \n",
      "13       s185    Capomulin  Female           3        17         15   \n",
      "14       s185    Capomulin  Female           3        17         20   \n",
      "...       ...          ...     ...         ...       ...        ...   \n",
      "1878     z795     Naftisol  Female          13        29         25   \n",
      "1879     z795     Naftisol  Female          13        29         30   \n",
      "1880     z795     Naftisol  Female          13        29         35   \n",
      "1881     z795     Naftisol  Female          13        29         40   \n",
      "1882     z795     Naftisol  Female          13        29         45   \n",
      "\n",
      "      Tumor_Volume_mm3  Metastatic_Sites  \n",
      "10           45.000000                 0  \n",
      "11           43.878496                 0  \n",
      "12           37.614948                 0  \n",
      "13           38.177232                 0  \n",
      "14           36.866876                 0  \n",
      "...                ...               ...  \n",
      "1878         57.947100                 2  \n",
      "1879         59.789636                 2  \n",
      "1880         60.435654                 2  \n",
      "1881         62.376639                 3  \n",
      "1882         65.741070                 3  \n",
      "\n",
      "[930 rows x 8 columns]\n",
      "930\n"
     ]
    },
    {
     "data": {
      "image/png": "[encoded data removed]",
      "text/plain": [
       "<Figure size 432x288 with 1 Axes>"
      ]
     },
     "metadata": {},
     "output_type": "display_data"
    }
   ],
   "source": [
    "# Generate a pie plot showing the distribution of female versus male mice using pandas \n",
    "results_merged_unique.groupby(['Sex']).sum().plot(kind='pie', y='Timepoint')\n",
    "\n",
    "#print(results_merged_unique)\n",
    "Male_mice = results_merged_unique[results_merged_unique[\"Sex\"]== \"Male\"]\n",
    "print(Male_mice)\n",
    "\n",
    "Male_mice_array=np.array(Male_mice)\n",
    "print(len(Male_mice_array))\n",
    "\n",
    "#female mice\n",
    "Female_mice = results_merged_unique[results_merged_unique[\"Sex\"]== \"Female\"]\n",
    "print(Female_mice)\n",
    "\n",
    "Female_mice_array=np.array(Female_mice)\n",
    "print(len(Female_mice_array))\n",
    "\n"
   ]
  },
  {
   "cell_type": "code",
   "execution_count": 58,
   "metadata": {},
   "outputs": [
    {
     "name": "stdout",
     "output_type": "stream",
     "text": [
      "[958, 930]\n"
     ]
    },
    {
     "data": {
      "image/png": "[encoded data removed]",
      "text/plain": [
       "<Figure size 432x288 with 1 Axes>"
      ]
     },
     "metadata": {},
     "output_type": "display_data"
    }
   ],
   "source": [
    "# Generate a pie plot showing the distribution of female versus male mice using pyplot\n",
    "labels='Male', 'Female'\n",
    "sizes=[len(Male_mice_array), len(Female_mice_array)]\n",
    "print(sizes)\n",
    "explode = (0.1, 0.1)\n",
    "\n",
    "fig1, ax1 = plt.subplots()\n",
    "ax1.pie(sizes, explode=explode, labels=labels, autopct='%1.1f%%',\n",
    "        shadow=True, startangle=90)\n",
    "# Equal aspect ratio ensures that pie is drawn as a circle.\n",
    "ax1.axis('equal')  \n",
    "\n",
    "plt.show()"
   ]
  },
  {
   "cell_type": "markdown",
   "metadata": {},
   "source": [
    "## Quartiles, Outliers and Boxplots"
   ]
  },
  {
   "cell_type": "code",
   "execution_count": 36,
   "metadata": {},
   "outputs": [
    {
     "name": "stdout",
     "output_type": "stream",
     "text": [
      "    Mouse_ID  Prom_Tumor        IQR  Outliers    Regimen  Weight\n",
      "0       k403   32.358859   5.795886         1   Ramicane    16.0\n",
      "1       s185   34.559143   7.251989         0  Capomulin    17.0\n",
      "2       x401   36.182040   7.884012         0  Capomulin    15.0\n",
      "3       m601   34.847470   4.576829         1  Capomulin    17.0\n",
      "4       g791   37.489237   7.784018         0   Ramicane    16.0\n",
      "..       ...         ...        ...       ...        ...     ...\n",
      "244     z314   45.467356   0.000000         2   Stelasyn    28.0\n",
      "245     z435   46.942214   1.855331         0   Propriva    26.0\n",
      "246     z581   53.979584   6.620047         0  Infubinol    25.0\n",
      "247     z795   54.880317  11.413177         0   Naftisol    29.0\n",
      "248     z969   60.194652  13.824086         0   Naftisol    30.0\n",
      "\n",
      "[249 rows x 6 columns]\n"
     ]
    }
   ],
   "source": [
    "# Calculate the final tumor volume of each mouse across four of the most promising treatment regimens. Calculate the IQR and quantitatively determine if there are any potential outliers. \n",
    "\n",
    "\n",
    "#Counting all the unique mouse Id's\n",
    "Mouse_ID=results_merged_unique[\"Mouse_ID\"].unique()\n",
    "#print(len(Mouse_ID))\n",
    "\n",
    "#new array datos_tumores\n",
    "datos_tumores=[]\n",
    "\n",
    "#for loop for unique Id's\n",
    "for m_id in Mouse_ID:\n",
    "    mouse=results_merged_unique[results_merged_unique[\"Mouse_ID\"]== m_id]\n",
    "    #filtering data frame \"mouse\" to obtain number of tumors\n",
    "    regimen=mouse[\"Drug_Regimen\"].unique()[0]\n",
    "    tumors=mouse[\"Tumor_Volume_mm3\"]\n",
    "    tumors=np.array(tumors)\n",
    "    pesos=np.array(mouse[\"Weight_g\"])\n",
    "    peso=sum(pesos)/len(pesos)\n",
    "    #calculating average tumor size\n",
    "    promedio_tumors=sum(tumors)/len(tumors)\n",
    "    #sorting tumors by smallest to biggest\n",
    "    tumors.sort()\n",
    "    #Q1= value that represents 25% of the data\n",
    "    Q1=np.percentile(tumors, 25, interpolation = 'midpoint')\n",
    "    #Q3=value that represents 75% of the data\n",
    "    Q3=np.percentile(tumors, 75, interpolation = 'midpoint')\n",
    "    #Obtaining intercuartil range\n",
    "    riq=Q3-Q1\n",
    "    #outliers counter\n",
    "    outliers=0\n",
    "    for t in tumors:\n",
    "        if (t<Q1-1.5*riq or t>Q3+1.5*riq):\n",
    "            outliers+=1\n",
    "    datos_tumores.append([m_id, promedio_tumors, riq, outliers, regimen, peso])\n",
    "\n",
    "#Deploy rows of the matrix datos_tumores\n",
    "#for d in datos_tumores:\n",
    "    #print(d)\n",
    "\n",
    "#convert matrix into a dataframe\n",
    "tumors_dataframe = pd.DataFrame(data=datos_tumores, index=None, columns=[\"Mouse_ID\",\"Prom_Tumor\",\"IQR\",\"Outliers\",\"Regimen\", \"Weight\"])\n",
    "print(tumors_dataframe)\n",
    "    \n",
    "\n",
    "    \n",
    "\n",
    "    \n",
    "    \n",
    "\n",
    "\n"
   ]
  },
  {
   "cell_type": "code",
   "execution_count": 38,
   "metadata": {},
   "outputs": [
    {
     "data": {
      "image/png": "[encoded data removed]",
      "text/plain": [
       "<Figure size 432x288 with 1 Axes>"
      ]
     },
     "metadata": {
      "needs_background": "light"
     },
     "output_type": "display_data"
    }
   ],
   "source": [
    "# Generate a box plot of the final tumor volume of each mouse across four regimens of interest\n",
    "\n",
    "#filtering regimens of tumors_dataframe \n",
    "selected_Regimens = tumors_dataframe[(tumors_dataframe[\"Regimen\"]==\"Capomulin\")|(tumors_dataframe[\"Regimen\"]==\"Stelasyn\")|(tumors_dataframe[\"Regimen\"]==\"Propriva\") | (tumors_dataframe[\"Regimen\"]==\"Infubinol\")]\n",
    "\n",
    "boxplot=selected_Regimens.boxplot(column=['Prom_Tumor'], by='Regimen')"
   ]
  },
  {
   "cell_type": "markdown",
   "metadata": {},
   "source": [
    "## Line and Scatter Plots"
   ]
  },
  {
   "cell_type": "code",
   "execution_count": 39,
   "metadata": {},
   "outputs": [
    {
     "data": {
      "text/plain": [
       "[<matplotlib.lines.Line2D at 0x1a3a3ef7748>]"
      ]
     },
     "execution_count": 39,
     "metadata": {},
     "output_type": "execute_result"
    },
    {
     "data": {
      "image/png": "[encoded data removed]",
      "text/plain": [
       "<Figure size 432x288 with 1 Axes>"
      ]
     },
     "metadata": {
      "needs_background": "light"
     },
     "output_type": "display_data"
    }
   ],
   "source": [
    "# Generate a line plot of time point versus tumor volume for a mouse treated with Capomulin\n",
    "\n",
    "capo_mouse= results_merged[results_merged[\"Drug_Regimen\"]== \"Capomulin\"]\n",
    "#print(capo_mouse)\n",
    "\n",
    "mouse_s185=capo_mouse[capo_mouse[\"Mouse_ID\"]==\"s185\"]\n",
    "#print(mouse_s185)\n",
    "\n",
    "timepoint_line = mouse_s185['Timepoint']\n",
    "\n",
    "timepoint_line= np.array(timepoint_line)\n",
    "#print(timepoint_line)\n",
    "\n",
    "tumor_line = mouse_s185['Tumor_Volume_mm3']\n",
    "\n",
    "tumor_line= np.array(tumor_line)\n",
    "#print(tumor_line)\n",
    "\n",
    "plt.plot(timepoint_line, tumor_line)\n",
    "\n",
    "\n"
   ]
  },
  {
   "cell_type": "code",
   "execution_count": 41,
   "metadata": {},
   "outputs": [
    {
     "name": "stdout",
     "output_type": "stream",
     "text": [
      "[17. 15. 17. 17. 17. 17. 17. 19. 17. 20. 21. 19. 19. 21. 22. 21. 23. 23.\n",
      " 21. 22. 23. 21. 25. 24. 25.]\n",
      "[34.55914339 36.18203956 34.8474699  36.50597276 39.88749519 38.50682925\n",
      " 36.50921205 39.04981645 39.3287251  39.14105275 41.35245228 41.99009661\n",
      " 42.50726104 40.0836993  41.96363563 43.21692461 44.46523635 41.38482521\n",
      " 41.5815951  44.6133439  42.80373304 44.43447379 43.36736445 44.80580968\n",
      " 45.79896951]\n"
     ]
    },
    {
     "data": {
      "image/png": "[encoded data removed]",
      "text/plain": [
       "<Figure size 432x288 with 1 Axes>"
      ]
     },
     "metadata": {
      "needs_background": "light"
     },
     "output_type": "display_data"
    }
   ],
   "source": [
    "# Generate a scatter plot of mouse weight versus average tumor volume for the Capomulin regimen\n",
    "capo_scatter= tumors_dataframe[tumors_dataframe[\"Regimen\"]== \"Capomulin\"]\n",
    "\n",
    "mouse_weight = capo_scatter['Weight']\n",
    "\n",
    "mouse_weight= np.array(mouse_weight)\n",
    "\n",
    "mouse_tumor = capo_scatter['Prom_Tumor']\n",
    "\n",
    "mouse_tumor= np.array(mouse_tumor)\n",
    "\n",
    "print(mouse_weight)\n",
    "print(mouse_tumor)\n",
    "\n",
    "plt.scatter(mouse_weight, mouse_tumor)\n",
    "plt.xlabel('Mouse Weight', fontsize=16)\n",
    "plt.ylabel('Tumor volume', fontsize=16)\n",
    "plt.show()\n"
   ]
  },
  {
   "cell_type": "markdown",
   "metadata": {},
   "source": [
    "## Correlation and Regression"
   ]
  },
  {
   "cell_type": "code",
   "execution_count": 42,
   "metadata": {},
   "outputs": [
    {
     "name": "stdout",
     "output_type": "stream",
     "text": [
      "0.8419363424694719\n"
     ]
    }
   ],
   "source": [
    "# Calculate the correlation coefficient and linear regression model \n",
    "# for mouse weight and average tumor volume for the Capomulin regimen\n",
    "\n",
    "corr=np.corrcoef(mouse_weight, mouse_tumor)[0, 1]\n",
    "print(corr)\n",
    "\n"
   ]
  },
  {
   "cell_type": "code",
   "execution_count": 43,
   "metadata": {},
   "outputs": [],
   "source": [
    "def estimate_coef(x, y): \n",
    "    # number of observations/points \n",
    "    n = np.size(x) \n",
    "  \n",
    "    # mean of x and y vector \n",
    "    m_x, m_y = np.mean(x), np.mean(y) \n",
    "  \n",
    "    # calculating cross-deviation and deviation about x \n",
    "    SS_xy = np.sum(y*x) - n*m_y*m_x \n",
    "    SS_xx = np.sum(x*x) - n*m_x*m_x \n",
    "  \n",
    "    # calculating regression coefficients \n",
    "    b_1 = SS_xy / SS_xx \n",
    "    b_0 = m_y - b_1*m_x \n",
    "  \n",
    "    return(b_0, b_1) \n",
    "  \n",
    "\n",
    "def plot_regression_line(x, y, b): \n",
    "    # plotting the actual points as scatter plot \n",
    "    plt.scatter(x, y, color = \"b\", \n",
    "               marker = \"*\", s = 40) \n",
    "  \n",
    "    # predicted response vector \n",
    "    y_pred = b[0] + b[1]*x \n",
    "  \n",
    "    # plotting the regression line \n",
    "    plt.plot(x, y_pred, color = \"g\") \n",
    "  \n",
    "    # putting labels \n",
    "    plt.xlabel('Weight') \n",
    "    plt.ylabel('Tumor Volume') \n",
    "  \n",
    "    # function to show plot \n",
    "    plt.show() \n",
    "  \n"
   ]
  },
  {
   "cell_type": "code",
   "execution_count": 44,
   "metadata": {},
   "outputs": [
    {
     "data": {
      "image/png": "[encoded data removed]",
      "text/plain": [
       "<Figure size 432x288 with 1 Axes>"
      ]
     },
     "metadata": {
      "needs_background": "light"
     },
     "output_type": "display_data"
    }
   ],
   "source": [
    "\n",
    "x = mouse_weight\n",
    "y = mouse_tumor\n",
    "\n",
    "# estimating coefficients \n",
    "b = estimate_coef(x, y) \n",
    "\n",
    "\n",
    "# plotting regression line \n",
    "plot_regression_line(x, y, b) "
   ]
  },
  {
   "cell_type": "code",
   "execution_count": null,
   "metadata": {},
   "outputs": [],
   "source": []
  }
 ],
 "metadata": {
  "anaconda-cloud": {},
  "kernelspec": {
   "display_name": "Python 3",
   "language": "python",
   "name": "python3"
  },
  "language_info": {
   "codemirror_mode": {
    "name": "ipython",
    "version": 3
   },
   "file_extension": ".py",
   "mimetype": "text/x-python",
   "name": "python",
   "nbconvert_exporter": "python",
   "pygments_lexer": "ipython3",
   "version": "3.7.7"
  }
 },
 "nbformat": 4,
 "nbformat_minor": 2
}
